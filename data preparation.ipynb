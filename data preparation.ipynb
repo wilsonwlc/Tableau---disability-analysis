{
 "cells": [
  {
   "cell_type": "code",
   "execution_count": 3,
   "metadata": {
    "vscode": {
     "languageId": "r"
    }
   },
   "outputs": [],
   "source": [
    "library(readxl)\n",
    "library(dplyr)\n",
    "library(stringr)"
   ]
  },
  {
   "cell_type": "markdown",
   "metadata": {},
   "source": [
    "##### Import data"
   ]
  },
  {
   "cell_type": "code",
   "execution_count": 4,
   "metadata": {
    "vscode": {
     "languageId": "r"
    }
   },
   "outputs": [],
   "source": [
    "file_path <- \"./data/disabilitycensus2011.xlsx\"\n",
    "sheet_name <- \"Table 5\"\n",
    "df0 <- read_excel(file_path, sheet = sheet_name, skip = 4)"
   ]
  },
  {
   "cell_type": "markdown",
   "metadata": {},
   "source": [
    "##### Rename columns"
   ]
  },
  {
   "cell_type": "code",
   "execution_count": 6,
   "metadata": {
    "vscode": {
     "languageId": "r"
    }
   },
   "outputs": [],
   "source": [
    "colnames(df0) <- colnames(df0) %>%\n",
    "  tolower() %>%\n",
    "  str_replace_all(c(\" \" = \"_\", \"%\" = \"\", \"-\" = \"_\"))"
   ]
  },
  {
   "cell_type": "markdown",
   "metadata": {},
   "source": [
    "##### Select rows and columns"
   ]
  },
  {
   "cell_type": "code",
   "execution_count": 7,
   "metadata": {
    "vscode": {
     "languageId": "r"
    }
   },
   "outputs": [],
   "source": [
    "df <- df0 %>%\n",
    "    filter(year == 2011) %>%\n",
    "    select(area_code, local_authority, category, disability_status, sex, count, population, age_standardised_percentage)"
   ]
  },
  {
   "cell_type": "markdown",
   "metadata": {},
   "source": [
    "##### Inspect data"
   ]
  },
  {
   "cell_type": "code",
   "execution_count": 21,
   "metadata": {
    "vscode": {
     "languageId": "r"
    }
   },
   "outputs": [
    {
     "data": {
      "text/html": [
       "<table class=\"dataframe\">\n",
       "<caption>A tibble: 2 x 2</caption>\n",
       "<thead>\n",
       "\t<tr><th scope=col>area_code</th><th scope=col>local_authority</th></tr>\n",
       "\t<tr><th scope=col>&lt;chr&gt;</th><th scope=col>&lt;chr&gt;</th></tr>\n",
       "</thead>\n",
       "<tbody>\n",
       "\t<tr><td>E09000001 and E09000033</td><td>City of London and Westminster</td></tr>\n",
       "\t<tr><td>E06000052 and E06000053</td><td>Cornwall and Isles of Scilly  </td></tr>\n",
       "</tbody>\n",
       "</table>\n"
      ],
      "text/latex": [
       "A tibble: 2 x 2\n",
       "\\begin{tabular}{ll}\n",
       " area\\_code & local\\_authority\\\\\n",
       " <chr> & <chr>\\\\\n",
       "\\hline\n",
       "\t E09000001 and E09000033 & City of London and Westminster\\\\\n",
       "\t E06000052 and E06000053 & Cornwall and Isles of Scilly  \\\\\n",
       "\\end{tabular}\n"
      ],
      "text/markdown": [
       "\n",
       "A tibble: 2 x 2\n",
       "\n",
       "| area_code &lt;chr&gt; | local_authority &lt;chr&gt; |\n",
       "|---|---|\n",
       "| E09000001 and E09000033 | City of London and Westminster |\n",
       "| E06000052 and E06000053 | Cornwall and Isles of Scilly   |\n",
       "\n"
      ],
      "text/plain": [
       "  area_code               local_authority               \n",
       "1 E09000001 and E09000033 City of London and Westminster\n",
       "2 E06000052 and E06000053 Cornwall and Isles of Scilly  "
      ]
     },
     "metadata": {},
     "output_type": "display_data"
    }
   ],
   "source": [
    "unvalid_pkey <- unique(str_subset(df$area_code,pattern = \"^[:upper:]{1}[:digit:]{8}$\", negate = TRUE))\n",
    "df %>%\n",
    "    filter(area_code %in% unvalid_pkey) %>%\n",
    "    select(area_code, local_authority) %>%\n",
    "    distinct()"
   ]
  },
  {
   "cell_type": "markdown",
   "metadata": {},
   "source": [
    "* The statistics for the City of London (area code: E09000001) and Westminster (area code: E09000033) are grouped together, as are the statistics for Cornwall (area code: E06000052) and the Isles of Scilly (area code: E06000053)"
   ]
  },
  {
   "cell_type": "markdown",
   "metadata": {},
   "source": [
    "##### Output data"
   ]
  },
  {
   "cell_type": "code",
   "execution_count": 7,
   "metadata": {
    "vscode": {
     "languageId": "r"
    }
   },
   "outputs": [],
   "source": [
    "write.csv(df, file = \"./data/percentage_disability_clean.csv\", row.names = FALSE)"
   ]
  }
 ],
 "metadata": {
  "kernelspec": {
   "display_name": "R",
   "language": "R",
   "name": "ir"
  },
  "language_info": {
   "codemirror_mode": "r",
   "file_extension": ".r",
   "mimetype": "text/x-r-source",
   "name": "R",
   "pygments_lexer": "r",
   "version": "4.3.1"
  }
 },
 "nbformat": 4,
 "nbformat_minor": 2
}
